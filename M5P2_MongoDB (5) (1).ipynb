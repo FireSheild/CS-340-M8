{
 "cells": [
  {
   "cell_type": "code",
   "execution_count": 19,
   "id": "803daf0d",
   "metadata": {},
   "outputs": [],
   "source": [
    "from pymongo import MongoClient\n",
    "from bson.objectid import ObjectId\n",
    "\n",
    "class AnimalShelter(object):\n",
    "    \"\"\" CRUD operations for Animal collection in MongoDB \"\"\"\n",
    "\n",
    "    def __init__(self):\n",
    "    \n",
    "        USER = 'aacuser'\n",
    "        PASS = 'SNHU1234'\n",
    "        HOST = 'nv-desktop-services.apporto.com'\n",
    "        PORT = 30053\n",
    "        DB = 'aac'\n",
    "        COL = 'animals'\n",
    "        #\n",
    "        # Initialize Connection\n",
    "        #\n",
    "        self.client = MongoClient('mongodb://%s:%s@%s:%d' % (USER,PASS,HOST,PORT))\n",
    "        self.database = self.client['AAC']\n",
    "        self.collection = self.database['%s' % (COL)]\n",
    "\n",
    "# Complete this create method to implement the C in CRUD.\n",
    "    def create(self, data):\n",
    "        if data is not None:\n",
    "            self.database.animals.insert_one(data)  # data should be dictionary            \n",
    "            return True\n",
    "        else:\n",
    "            raise Exception(\"Nothing to save, because data parameter is empty\")\n",
    "\n",
    "# Create method to implement the R in CRUD.\n",
    "    def read(self, data):\n",
    "        if data is not None:\n",
    "            print(self.database.animals.find(data))\n",
    "            for animal in result:\n",
    "                print(animal)\n",
    "                print(\"\")\n",
    "        else:\n",
    "            raise Exception(\"Nothing to read, because data parameter is empty\")\n",
    "        return result\n",
    "#Create method to implement the U in CRUD\n",
    "\n",
    "    def update(self, data):\n",
    "        if data is not None:\n",
    "            self.database.animals.update_one(data)\n",
    "        else:\n",
    "            raise Exception(\"Nothing to change, because data parameter is empty\")\n",
    "            \n",
    "# Create method to implement the D in CRUD\n",
    "\n",
    "    def delete(self, data):\n",
    "        if data is not None:\n",
    "            self.database.animals.deleteOne(data)\n",
    "        else:\n",
    "            raise Exception(\"Nothing to delete, because data parameter is empty\")"
   ]
  },
  {
   "cell_type": "code",
   "execution_count": 20,
   "id": "69b66bea",
   "metadata": {},
   "outputs": [],
   "source": [
    "#from AnimalShelter import AmimalShelter"
   ]
  },
  {
   "cell_type": "code",
   "execution_count": null,
   "id": "84f8d99f",
   "metadata": {},
   "outputs": [],
   "source": []
  },
  {
   "cell_type": "code",
   "execution_count": 22,
   "id": "3c1d87be",
   "metadata": {},
   "outputs": [
    {
     "name": "stdout",
     "output_type": "stream",
     "text": [
      "Execution started at 2024-04-24 15:32:42.328956 {12bd48e8-4111-4ebd-ae33-497058ad899b}\n"
     ]
    },
    {
     "name": "stderr",
     "output_type": "stream",
     "text": [
      "usage: ipykernel_launcher.py [-h] username password\n",
      "ipykernel_launcher.py: error: the following arguments are required: password\n"
     ]
    },
    {
     "ename": "SystemExit",
     "evalue": "2",
     "output_type": "error",
     "traceback": [
      "An exception has occurred, use %tb to see the full traceback.\n",
      "\u001b[0;31mSystemExit\u001b[0m\u001b[0;31m:\u001b[0m 2\n"
     ]
    }
   ],
   "source": [
    "#example test script will not work in Jupyter\n",
    "import argparse\n",
    "import datetime\n",
    "import json\n",
    "import random\n",
    "import uuid\n",
    "import string\n",
    "import sys\n",
    "\n",
    "#from animal_shelter import AnimalShelter\n",
    "\n",
    "def main(argv):\n",
    "    parser = argparse.ArgumentParser()\n",
    "    parser.add_argument(\"username\", help=\"The database username\")\n",
    "    parser.add_argument(\"password\", help=\"The database password\")\n",
    "    args = parser.parse_args()\n",
    "    username = args.username\n",
    "    password = args.password\n",
    "\n",
    "    # create instance of the object\n",
    "    shelter = AnimalShelter(username, password)\n",
    "\n",
    "    animal_id = 'A'.join(random.choices(string.ascii_uppercase + string.digits, k = 6)) \n",
    "    print('animal_id %s being created' % animal_id)\n",
    "    outcome = json.loads('{\"\" : 78258,\"age_upon_outcome\" : \"1.6 years\",\"animal_id\" : \"' + animal_id + '\",\"animal_type\" : \"Dog\",\"breed\" : \"Wolf Shepherd Mix\",\"color\" : \"Gray\",\"date_of_birth\" : \"2013-02-09\",\"datetime\" : \"2014-04-11 13:26:00\",\"monthyear\" : \"2014-04-11T13:26:00\",\"name\" : \"*JakeMo\",\"outcome_subtype\" : \"Partner\",\"outcome_type\" : \"Transfer\",\"sex_upon_outcome\" : \"Intact Male\",\"location_lat\" : 30.707721081886,\"location_long\" : -97.2735696278757,\"age_upon_outcome_in_weeks\" : 79.0799603174603}')\n",
    "    #print(outcome)\n",
    "\n",
    "    if shelter.create(outcome):\n",
    "        print(\"animal added\")\n",
    "\n",
    "    animal = shelter.read({\"animal_id\":animal_id})\n",
    "    print(animal)\n",
    "\n",
    "    animals = shelter.read_all()\n",
    "    for animal in animals:\n",
    "        print('{0}: {1}, {2} {3}'.format(animal['animal_id'], \n",
    "            animal['name'], animal['breed'], animal['animal_type']))\n",
    "\n",
    "if __name__ == '__main__':\n",
    "    print(\"Execution started at \" + str(datetime.datetime.now()) + \" {\" + str(uuid.uuid4()) + \"}\")\n",
    "    main(sys.argv[1:])"
   ]
  },
  {
   "cell_type": "code",
   "execution_count": null,
   "id": "6e1f138c",
   "metadata": {},
   "outputs": [],
   "source": []
  }
 ],
 "metadata": {
  "kernelspec": {
   "display_name": "Python 3 (ipykernel)",
   "language": "python",
   "name": "python3"
  },
  "language_info": {
   "codemirror_mode": {
    "name": "ipython",
    "version": 3
   },
   "file_extension": ".py",
   "mimetype": "text/x-python",
   "name": "python",
   "nbconvert_exporter": "python",
   "pygments_lexer": "ipython3",
   "version": "3.9.12"
  }
 },
 "nbformat": 4,
 "nbformat_minor": 5
}
